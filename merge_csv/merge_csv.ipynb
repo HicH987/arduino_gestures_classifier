{
 "cells": [
  {
   "cell_type": "code",
   "execution_count": 5,
   "metadata": {},
   "outputs": [],
   "source": [
    "import os\n",
    "import re\n",
    "import glob as gb\n",
    "from util.util import merging_csv\n"
   ]
  },
  {
   "cell_type": "code",
   "execution_count": 7,
   "metadata": {},
   "outputs": [
    {
     "name": "stdout",
     "output_type": "stream",
     "text": [
      "result directory '../data/' already exist\n"
     ]
    }
   ],
   "source": [
    "ext = \"csv\"\n",
    "int_pattern = r\"\\d+\"\n",
    "target_dir = \"./input_data/\"\n",
    "result_dir = \"../model_training/data/\"\n",
    "\n",
    "try:\n",
    "    os.mkdir(result_dir)\n",
    "    print(f\"result directory '{result_dir}' was created\")\n",
    "except:\n",
    "    print(f\"result directory '{result_dir}' already exist\")\n"
   ]
  },
  {
   "cell_type": "code",
   "execution_count": 8,
   "metadata": {},
   "outputs": [
    {
     "name": "stdout",
     "output_type": "stream",
     "text": [
      "files_R: ['./input_data\\\\G1_R.csv', './input_data\\\\G2_R.csv', './input_data\\\\G3_R.csv']\n",
      "files_L: ['./input_data\\\\G1_L.csv', './input_data\\\\G2_L.csv', './input_data\\\\G3_L.csv']\n",
      "files_merge: ['../data//G1_RL.csv', '../data//G2_RL.csv', '../data//G3_RL.csv']\n"
     ]
    }
   ],
   "source": [
    "files_R = []\n",
    "files_L = []\n",
    "files_merge = []\n",
    "\n",
    "for f_path in gb.glob(f\"{target_dir}/*.{ext}\"):\n",
    "    f_name = os.path.basename(f_path)\n",
    "    gest_idx = re.findall(int_pattern, f_name)[0]\n",
    "\n",
    "    f_merge_name = f\"{result_dir}/G{gest_idx}_RL.{ext}\"\n",
    "\n",
    "    if \"L\" in f_name:\n",
    "        files_L.append(f_path)\n",
    "        files_merge.append(f_merge_name)\n",
    "    else:\n",
    "        files_R.append(f_path)\n",
    "\n",
    "print(f\"files_R: {files_R}\")\n",
    "print(f\"files_L: {files_L}\")\n",
    "print(f\"files_merge: {files_merge}\")\n"
   ]
  },
  {
   "cell_type": "code",
   "execution_count": 9,
   "metadata": {},
   "outputs": [
    {
     "name": "stdout",
     "output_type": "stream",
     "text": [
      "- '../data//G1_RL.csv' was created !\n",
      "---------------- '../data//G1_RL.csv' LOG -------------------------------\n",
      "    |               FILE_NAME      |   NB_GEST |   NB_ROWS\n",
      "    |_________________________________________________________________\n",
      "    |               G1_R.csv       |   10      |   1190\n",
      "    |               G1_L.csv       |   10      |   1190\n",
      "    |---MERGE--->   G1_RL.csv      |   10      |   2380\n",
      "---------------------------------------------------------------\n",
      "\n",
      "- '../data//G2_RL.csv' was created !\n",
      "---------------- '../data//G2_RL.csv' LOG -------------------------------\n",
      "    |               FILE_NAME      |   NB_GEST |   NB_ROWS\n",
      "    |_________________________________________________________________\n",
      "    |               G2_R.csv       |   10      |   1190\n",
      "    |               G2_L.csv       |   10      |   1190\n",
      "    |---MERGE--->   G2_RL.csv      |   10      |   2380\n",
      "---------------------------------------------------------------\n",
      "\n",
      "- '../data//G3_RL.csv' was created !\n",
      "---------------- '../data//G3_RL.csv' LOG -------------------------------\n",
      "    |               FILE_NAME      |   NB_GEST |   NB_ROWS\n",
      "    |_________________________________________________________________\n",
      "    |               G3_R.csv       |   10      |   1190\n",
      "    |               G3_L.csv       |   10      |   1190\n",
      "    |---MERGE--->   G3_RL.csv      |   10      |   2380\n",
      "---------------------------------------------------------------\n",
      "\n"
     ]
    }
   ],
   "source": [
    "for fr, fl, fmrg in zip(files_R, files_L, files_merge):\n",
    "    merging_csv(fr, fl, fmrg)\n"
   ]
  }
 ],
 "metadata": {
  "kernelspec": {
   "display_name": "Python 3.10.7 64-bit",
   "language": "python",
   "name": "python3"
  },
  "language_info": {
   "codemirror_mode": {
    "name": "ipython",
    "version": 3
   },
   "file_extension": ".py",
   "mimetype": "text/x-python",
   "name": "python",
   "nbconvert_exporter": "python",
   "pygments_lexer": "ipython3",
   "version": "3.10.7"
  },
  "orig_nbformat": 4,
  "vscode": {
   "interpreter": {
    "hash": "3196968d684371006099b3d55edeef8ed90365227a30deaef86e5d4aa8519be0"
   }
  }
 },
 "nbformat": 4,
 "nbformat_minor": 2
}
