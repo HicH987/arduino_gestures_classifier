{
  "cells": [
    {
      "cell_type": "markdown",
      "metadata": {},
      "source": [
        "<a href=\"https://colab.research.google.com/github/HicH987/arduino_gestures_classifier/blob/master/creation_two_models.ipynb\" target=\"_parent\"><img src=\"https://colab.research.google.com/assets/colab-badge.svg\\\" alt=\"Open In Colab\"></a>"
      ]
    },
    {
      "cell_type": "markdown",
      "metadata": {
        "id": "f92-4Hjy7kA8"
      },
      "source": [
        "# Creation of two gesture classification models\n"
      ]
    },
    {
      "cell_type": "markdown",
      "metadata": {
        "id": "uvDA8AK7QOq-"
      },
      "source": [
        "## Setup Python Environment\n",
        "\n",
        "The next cell sets up the dependencies in required for the notebook, run it.\n"
      ]
    },
    {
      "cell_type": "code",
      "execution_count": null,
      "metadata": {
        "id": "Y2gs-PL4xDkZ"
      },
      "outputs": [],
      "source": [
        "# Setup environment\n",
        "!apt-get -qq install xxd\n",
        "!pip install pandas numpy matplotlib\n",
        "!pip install tensorflow==2.0.0-rc1"
      ]
    },
    {
      "cell_type": "markdown",
      "metadata": {},
      "source": [
        "# Download data from our github"
      ]
    },
    {
      "cell_type": "markdown",
      "metadata": {},
      "source": [
        "After the execution of this cell refresh the files in colab"
      ]
    },
    {
      "cell_type": "code",
      "execution_count": null,
      "metadata": {},
      "outputs": [],
      "source": [
        "# https://github.com/HicH987/arduino_gestures_classifier/tree/master/data\n",
        "!npx degit HicH987/arduino_gestures_classifier/data -f "
      ]
    },
    {
      "cell_type": "markdown",
      "metadata": {
        "id": "N4_sDpI9aCdh"
      },
      "source": [
        "# Import the necessary libraries "
      ]
    },
    {
      "cell_type": "code",
      "execution_count": 1,
      "metadata": {
        "id": "OCj8_72aaCdi"
      },
      "outputs": [],
      "source": [
        "import os\n",
        "import numpy as np\n",
        "import pandas as pd\n",
        "import tensorflow as tf\n",
        "import matplotlib.pyplot as plt\n",
        "from tensorflow.keras.optimizers import SGD"
      ]
    },
    {
      "cell_type": "markdown",
      "metadata": {
        "id": "3WJjZA3SaCdj"
      },
      "source": [
        "# Crafted useful functions"
      ]
    },
    {
      "cell_type": "code",
      "execution_count": 2,
      "metadata": {
        "id": "feRV3BsXaCdj"
      },
      "outputs": [],
      "source": [
        "def get_input_output(arr_gestures):\n",
        "    \"\"\"\n",
        "        This function accepts the list of csv file names of one hand (arr_gestures) and perform data preprocessing and normalization and return inputs and outputs data\n",
        "\n",
        "    Args:\n",
        "        arr_gestures (list): list of gesture names\n",
        "\n",
        "    Returns:\n",
        "        inputs(numpy array): features set\n",
        "        outputs(numpy array): label set\n",
        "    \"\"\"\n",
        "\n",
        "    SEED = 1337\n",
        "    np.random.seed(SEED)\n",
        "    tf.random.set_seed(SEED)\n",
        "\n",
        "    SAMPLES_PER_GESTURE = 119\n",
        "\n",
        "    NUM_arr_gestures = len(arr_gestures)\n",
        "\n",
        "    # create a one-hot encoded matrix that is used in the output\n",
        "    ONE_HOT_ENCODED_arr_gestures = np.eye(NUM_arr_gestures)\n",
        "\n",
        "    inputs = []\n",
        "    outputs = []\n",
        "\n",
        "    # read each csv file and push an input and output\n",
        "    for gesture_index in range(NUM_arr_gestures):\n",
        "        gesture = arr_gestures[gesture_index]\n",
        "        print(f\"Processing index {gesture_index} for gesture '{gesture}'.\")\n",
        "\n",
        "        output = ONE_HOT_ENCODED_arr_gestures[gesture_index]\n",
        "\n",
        "        df = pd.read_csv(\"/content/\" + gesture + \".csv\")\n",
        "\n",
        "        # calculate the number of gesture recordings in the file\n",
        "        num_recordings = int(df.shape[0] / SAMPLES_PER_GESTURE)\n",
        "\n",
        "        print(f\"\\tThere are {num_recordings} recordings of the {gesture} gesture.\")\n",
        "\n",
        "        for i in range(num_recordings):\n",
        "            tensor = []\n",
        "            for j in range(SAMPLES_PER_GESTURE):\n",
        "                index = i * SAMPLES_PER_GESTURE + j\n",
        "                # normalize the input data, between 0 to 1:\n",
        "                # - acceleration is between: -4 to +4\n",
        "                # - gyroscope is between: -2000 to +2000\n",
        "                tensor += [\n",
        "                    (df[\"aX\"][index] + 4) / 8,\n",
        "                    (df[\"aY\"][index] + 4) / 8,\n",
        "                    (df[\"aZ\"][index] + 4) / 8,\n",
        "                    (df[\"gX\"][index] + 2000) / 4000,\n",
        "                    (df[\"gY\"][index] + 2000) / 4000,\n",
        "                    (df[\"gZ\"][index] + 2000) / 4000,\n",
        "                ]\n",
        "\n",
        "            inputs.append(tensor)\n",
        "            outputs.append(output)\n",
        "\n",
        "    # convert the list to numpy array\n",
        "    inputs = np.array(inputs)\n",
        "    outputs = np.array(outputs)\n",
        "\n",
        "    print(\"Data set parsing and preparation complete.\")\n",
        "\n",
        "    return inputs, outputs\n",
        "\n",
        "\n",
        "def splitter_data(inputs, outputs, train_split=0.6, test_split=0.2):\n",
        "    \"\"\"\n",
        "    summary:\n",
        "        This function spilt the data (input & output) to inputs_train,\n",
        "        inputs_test, inputs_validate, outputs_train, outputs_test, \n",
        "        outputs_validate.\n",
        "\n",
        "    Args:\n",
        "        inputs(numpy array): features set\n",
        "        outputs(numpy array): label set\n",
        "\n",
        "    Returns:\n",
        "        inputs_train(numpy array): training data\n",
        "        inputs_test(numpy array):  test data\n",
        "        inputs_validate(numpy array): validation data\n",
        "        outputs_train(numpy array): training label\n",
        "        outputs_test(numpy array): test label\n",
        "        outputs_validate(numpy array): validation label\n",
        "    \"\"\"\n",
        "    # Randomize the order of the inputs, so they can be evenly distributed for training, testing, and validation\n",
        "    # https://stackoverflow.com/a/37710486/2020087\n",
        "    num_inputs = len(inputs)\n",
        "    randomize = np.arange(num_inputs)\n",
        "    np.random.shuffle(randomize)\n",
        "\n",
        "    # Swap the consecutive indexes (0, 1, 2, etc) with the randomized indexes\n",
        "    inputs = inputs[randomize]\n",
        "    outputs = outputs[randomize]\n",
        "\n",
        "    # Split the recordings (group of samples) into three sets: training, testing and validation\n",
        "    TRAIN_SPLIT = int(train_split * num_inputs)\n",
        "    TEST_SPLIT = int(test_split * num_inputs + TRAIN_SPLIT)\n",
        "\n",
        "    inputs_train, inputs_test, inputs_validate = np.split(\n",
        "        inputs, [TRAIN_SPLIT, TEST_SPLIT]\n",
        "    )\n",
        "    outputs_train, outputs_test, outputs_validate = np.split(\n",
        "        outputs, [TRAIN_SPLIT, TEST_SPLIT]\n",
        "    )\n",
        "\n",
        "    print(\"Data set randomization and splitting complete.\")\n",
        "\n",
        "    return (\n",
        "        inputs_train,\n",
        "        inputs_test,\n",
        "        inputs_validate,\n",
        "        outputs_train,\n",
        "        outputs_test,\n",
        "        outputs_validate,\n",
        "    )\n"
      ]
    },
    {
      "cell_type": "markdown",
      "metadata": {
        "id": "9lwkeshJk7dg"
      },
      "source": [
        "# Upload Data\n",
        "\n",
        "1. Open the panel on the left side of Colab by clicking on the **>**\n",
        "1. Select the files tab\n",
        "1. Drag `csv` files from your computer to the tab to upload them into colab.\n",
        "\n",
        "in our cas we have 4 gesture for each hand\n",
        "- clap\n",
        "- hi\n",
        "- down\n",
        "- up"
      ]
    },
    {
      "cell_type": "code",
      "execution_count": 3,
      "metadata": {
        "id": "H6wdNHzgaCdm"
      },
      "outputs": [],
      "source": [
        "GESTURES_R = [\n",
        "    \"clap_R\",\n",
        "    \"hi_R\",\n",
        "    \"up_R\",\n",
        "    \"down_R\",\n",
        "]\n",
        "\n",
        "GESTURES_L = [\n",
        "    \"clap_L\",\n",
        "    \"hi_L\",\n",
        "    \"up_L\",\n",
        "    \"down_L\",\n",
        "]\n",
        "\n",
        "NUM_GESTURES = len(GESTURES_R)"
      ]
    },
    {
      "cell_type": "markdown",
      "metadata": {
        "id": "kSxUeYPNQbOg"
      },
      "source": [
        "# Train Neural Network\n"
      ]
    },
    {
      "cell_type": "markdown",
      "metadata": {
        "id": "Gxk414PU3oy3"
      },
      "source": [
        "## Parse and prepare the data\n",
        "\n",
        "The next cell parses the csv files and transforms them to a format that will be used to train the fully connected neural network.\n",
        "\n",
        "Update the `GESTURES` list with the gesture data you've collected in `.csv` format.\n"
      ]
    },
    {
      "cell_type": "code",
      "execution_count": 5,
      "metadata": {
        "colab": {
          "base_uri": "https://localhost:8080/"
        },
        "id": "3EicD9dOaCdo",
        "outputId": "a0e026be-2986-4dea-926c-b6e33a6ef297"
      },
      "outputs": [
        {
          "name": "stdout",
          "output_type": "stream",
          "text": [
            "Processing index 0 for gesture 'clap_R'.\n",
            "\tThere are 39 recordings of the clap_R gesture.\n",
            "Processing index 1 for gesture 'hi_R'.\n",
            "\tThere are 39 recordings of the hi_R gesture.\n",
            "Processing index 2 for gesture 'up_R'.\n",
            "\tThere are 22 recordings of the up_R gesture.\n",
            "Processing index 3 for gesture 'down_R'.\n",
            "\tThere are 20 recordings of the down_R gesture.\n",
            "Data set parsing and preparation complete.\n",
            "\n",
            "\n",
            "Processing index 0 for gesture 'clap_L'.\n",
            "\tThere are 39 recordings of the clap_L gesture.\n",
            "Processing index 1 for gesture 'hi_L'.\n",
            "\tThere are 39 recordings of the hi_L gesture.\n",
            "Processing index 2 for gesture 'up_L'.\n",
            "\tThere are 22 recordings of the up_L gesture.\n",
            "Processing index 3 for gesture 'down_L'.\n",
            "\tThere are 20 recordings of the down_L gesture.\n",
            "Data set parsing and preparation complete.\n"
          ]
        }
      ],
      "source": [
        "inputs_R, outputs_R = get_input_output(GESTURES_R)\n",
        "\n",
        "print('\\n')\n",
        "\n",
        "inputs_L, outputs_L = get_input_output(GESTURES_L)"
      ]
    },
    {
      "cell_type": "markdown",
      "metadata": {
        "id": "d5_61831d5AM"
      },
      "source": [
        "## Randomize and split the input and output pairs for training\n",
        "\n",
        "Randomly split input and output pairs into sets of data: 60% for training, 20% for validation, and 20% for testing.\n",
        "\n",
        "- the training set is used to train the model\n",
        "- the validation set is used to measure how well the model is performing during training\n",
        "- the testing set is used to test the model after training\n"
      ]
    },
    {
      "cell_type": "code",
      "execution_count": 6,
      "metadata": {
        "colab": {
          "base_uri": "https://localhost:8080/"
        },
        "id": "DL4L3rg1aCdp",
        "outputId": "9cdc65df-4819-48af-99ec-06e2cbed6eb1"
      },
      "outputs": [
        {
          "name": "stdout",
          "output_type": "stream",
          "text": [
            "Data set randomization and splitting complete.\n",
            "\n",
            "\n",
            "Data set randomization and splitting complete.\n"
          ]
        }
      ],
      "source": [
        "(\n",
        "    inputs_train_R,\n",
        "    inputs_test_R,\n",
        "    inputs_validate_R,\n",
        "    outputs_train_R,\n",
        "    outputs_test_R,\n",
        "    outputs_validate_R,\n",
        ") = splitter_data(inputs_R, outputs_R)\n",
        "\n",
        "print('\\n')\n",
        "\n",
        "(\n",
        "    inputs_train_L,\n",
        "    inputs_test_L,\n",
        "    inputs_validate_L,\n",
        "    outputs_train_L,\n",
        "    outputs_test_L,\n",
        "    outputs_validate_L,\n",
        ") = splitter_data(inputs_L, outputs_L)\n"
      ]
    },
    {
      "cell_type": "markdown",
      "metadata": {
        "id": "a9g2n41p24nR"
      },
      "source": [
        "## Build & Train the Model\n",
        "\n",
        "Build and train a [TensorFlow](https://www.tensorflow.org) model using the high-level [Keras](https://www.tensorflow.org/guide/keras) API.\n"
      ]
    },
    {
      "cell_type": "markdown",
      "metadata": {},
      "source": [
        "We change the RMSprop to SGD"
      ]
    },
    {
      "cell_type": "markdown",
      "metadata": {},
      "source": [
        "RMSprop: is an optimization algorithm that speeds up gradient descent, it is used\n",
        "to train models based on deep neural networks. RMSProp for “Root Mean Square Propagation”\n",
        "could be translated as RCEQM for square root mean square error"
      ]
    },
    {
      "cell_type": "code",
      "execution_count": 7,
      "metadata": {
        "colab": {
          "base_uri": "https://localhost:8080/"
        },
        "id": "yr-3P8WYaCdq",
        "outputId": "89ca4df5-e4ba-4a58-eb14-702d104b8955"
      },
      "outputs": [
        {
          "name": "stdout",
          "output_type": "stream",
          "text": [
            "Epoch 1/50\n",
            "72/72 [==============================] - 1s 10ms/step - loss: 1.3779 - accuracy: 0.2778 - val_loss: 1.3791 - val_accuracy: 0.2917\n",
            "Epoch 2/50\n",
            "72/72 [==============================] - 0s 2ms/step - loss: 1.3084 - accuracy: 0.4167 - val_loss: 1.3275 - val_accuracy: 0.5417\n",
            "Epoch 3/50\n",
            "72/72 [==============================] - 0s 2ms/step - loss: 1.2393 - accuracy: 0.5556 - val_loss: 1.3008 - val_accuracy: 0.3333\n",
            "Epoch 4/50\n",
            "72/72 [==============================] - 0s 3ms/step - loss: 1.2363 - accuracy: 0.4583 - val_loss: 1.2456 - val_accuracy: 0.5000\n",
            "Epoch 5/50\n",
            "72/72 [==============================] - 0s 3ms/step - loss: 1.1577 - accuracy: 0.5278 - val_loss: 1.1775 - val_accuracy: 0.5417\n",
            "Epoch 6/50\n",
            "72/72 [==============================] - 0s 2ms/step - loss: 1.0550 - accuracy: 0.6111 - val_loss: 1.1520 - val_accuracy: 0.5417\n",
            "Epoch 7/50\n",
            "72/72 [==============================] - 0s 2ms/step - loss: 1.0353 - accuracy: 0.5556 - val_loss: 1.0651 - val_accuracy: 0.5000\n",
            "Epoch 8/50\n",
            "72/72 [==============================] - 0s 3ms/step - loss: 0.8820 - accuracy: 0.6528 - val_loss: 0.8932 - val_accuracy: 0.5417\n",
            "Epoch 9/50\n",
            "72/72 [==============================] - 0s 3ms/step - loss: 0.8976 - accuracy: 0.6667 - val_loss: 0.8555 - val_accuracy: 0.5417\n",
            "Epoch 10/50\n",
            "72/72 [==============================] - 0s 2ms/step - loss: 0.7157 - accuracy: 0.6806 - val_loss: 0.9075 - val_accuracy: 0.6250\n",
            "Epoch 11/50\n",
            "72/72 [==============================] - 0s 3ms/step - loss: 0.6277 - accuracy: 0.7361 - val_loss: 0.7108 - val_accuracy: 0.7917\n",
            "Epoch 12/50\n",
            "72/72 [==============================] - 0s 2ms/step - loss: 0.5944 - accuracy: 0.7361 - val_loss: 0.6316 - val_accuracy: 0.8333\n",
            "Epoch 13/50\n",
            "72/72 [==============================] - 0s 2ms/step - loss: 0.4909 - accuracy: 0.9167 - val_loss: 0.4063 - val_accuracy: 0.7917\n",
            "Epoch 14/50\n",
            "72/72 [==============================] - 0s 3ms/step - loss: 0.4044 - accuracy: 0.8611 - val_loss: 0.2871 - val_accuracy: 1.0000\n",
            "Epoch 15/50\n",
            "72/72 [==============================] - 0s 3ms/step - loss: 0.3526 - accuracy: 0.9306 - val_loss: 1.1890 - val_accuracy: 0.2917\n",
            "Epoch 16/50\n",
            "72/72 [==============================] - 0s 2ms/step - loss: 0.2708 - accuracy: 0.9306 - val_loss: 0.3104 - val_accuracy: 0.9583\n",
            "Epoch 17/50\n",
            "72/72 [==============================] - 0s 3ms/step - loss: 0.2101 - accuracy: 0.9583 - val_loss: 0.0898 - val_accuracy: 1.0000\n",
            "Epoch 18/50\n",
            "72/72 [==============================] - 0s 3ms/step - loss: 0.1373 - accuracy: 0.9861 - val_loss: 0.0671 - val_accuracy: 1.0000\n",
            "Epoch 19/50\n",
            "72/72 [==============================] - 0s 2ms/step - loss: 0.1499 - accuracy: 0.9861 - val_loss: 0.1231 - val_accuracy: 1.0000\n",
            "Epoch 20/50\n",
            "72/72 [==============================] - 0s 3ms/step - loss: 0.1724 - accuracy: 0.9444 - val_loss: 0.0606 - val_accuracy: 1.0000\n",
            "Epoch 21/50\n",
            "72/72 [==============================] - 0s 3ms/step - loss: 0.1121 - accuracy: 0.9722 - val_loss: 0.0292 - val_accuracy: 1.0000\n",
            "Epoch 22/50\n",
            "72/72 [==============================] - 0s 3ms/step - loss: 0.0854 - accuracy: 0.9722 - val_loss: 0.0330 - val_accuracy: 1.0000\n",
            "Epoch 23/50\n",
            "72/72 [==============================] - 0s 2ms/step - loss: 0.0914 - accuracy: 0.9583 - val_loss: 0.1249 - val_accuracy: 0.9583\n",
            "Epoch 24/50\n",
            "72/72 [==============================] - 0s 3ms/step - loss: 0.0641 - accuracy: 0.9861 - val_loss: 0.0280 - val_accuracy: 1.0000\n",
            "Epoch 25/50\n",
            "72/72 [==============================] - 0s 3ms/step - loss: 0.0411 - accuracy: 1.0000 - val_loss: 0.0252 - val_accuracy: 1.0000\n",
            "Epoch 26/50\n",
            "72/72 [==============================] - 0s 2ms/step - loss: 0.0379 - accuracy: 1.0000 - val_loss: 0.0119 - val_accuracy: 1.0000\n",
            "Epoch 27/50\n",
            "72/72 [==============================] - 0s 2ms/step - loss: 0.0407 - accuracy: 0.9722 - val_loss: 0.0118 - val_accuracy: 1.0000\n",
            "Epoch 28/50\n",
            "72/72 [==============================] - 0s 3ms/step - loss: 0.0229 - accuracy: 1.0000 - val_loss: 0.0098 - val_accuracy: 1.0000\n",
            "Epoch 29/50\n",
            "72/72 [==============================] - 0s 2ms/step - loss: 0.0442 - accuracy: 0.9861 - val_loss: 0.2698 - val_accuracy: 0.8750\n",
            "Epoch 30/50\n",
            "72/72 [==============================] - 0s 3ms/step - loss: 0.4633 - accuracy: 0.8333 - val_loss: 0.0237 - val_accuracy: 1.0000\n",
            "Epoch 31/50\n",
            "72/72 [==============================] - 0s 3ms/step - loss: 0.0761 - accuracy: 0.9861 - val_loss: 0.0080 - val_accuracy: 1.0000\n",
            "Epoch 32/50\n",
            "72/72 [==============================] - 0s 3ms/step - loss: 0.0596 - accuracy: 0.9722 - val_loss: 0.1408 - val_accuracy: 0.9167\n",
            "Epoch 33/50\n",
            "72/72 [==============================] - 0s 2ms/step - loss: 0.2689 - accuracy: 0.8889 - val_loss: 0.0598 - val_accuracy: 1.0000\n",
            "Epoch 34/50\n",
            "72/72 [==============================] - 0s 2ms/step - loss: 0.0223 - accuracy: 1.0000 - val_loss: 0.0087 - val_accuracy: 1.0000\n",
            "Epoch 35/50\n",
            "72/72 [==============================] - 0s 3ms/step - loss: 0.0247 - accuracy: 1.0000 - val_loss: 0.0078 - val_accuracy: 1.0000\n",
            "Epoch 36/50\n",
            "72/72 [==============================] - 0s 3ms/step - loss: 0.0183 - accuracy: 0.9861 - val_loss: 0.0335 - val_accuracy: 1.0000\n",
            "Epoch 37/50\n",
            "72/72 [==============================] - 0s 2ms/step - loss: 0.0273 - accuracy: 0.9861 - val_loss: 0.0060 - val_accuracy: 1.0000\n",
            "Epoch 38/50\n",
            "72/72 [==============================] - 0s 3ms/step - loss: 0.0153 - accuracy: 1.0000 - val_loss: 0.0045 - val_accuracy: 1.0000\n",
            "Epoch 39/50\n",
            "72/72 [==============================] - 0s 3ms/step - loss: 0.0123 - accuracy: 1.0000 - val_loss: 0.0058 - val_accuracy: 1.0000\n",
            "Epoch 40/50\n",
            "72/72 [==============================] - 0s 3ms/step - loss: 0.0104 - accuracy: 1.0000 - val_loss: 0.0082 - val_accuracy: 1.0000\n",
            "Epoch 41/50\n",
            "72/72 [==============================] - 0s 2ms/step - loss: 0.0110 - accuracy: 1.0000 - val_loss: 0.0042 - val_accuracy: 1.0000\n",
            "Epoch 42/50\n",
            "72/72 [==============================] - 0s 2ms/step - loss: 0.0054 - accuracy: 1.0000 - val_loss: 0.0031 - val_accuracy: 1.0000\n",
            "Epoch 43/50\n",
            "72/72 [==============================] - 0s 2ms/step - loss: 0.0067 - accuracy: 1.0000 - val_loss: 0.0040 - val_accuracy: 1.0000\n",
            "Epoch 44/50\n",
            "72/72 [==============================] - 0s 2ms/step - loss: 0.0066 - accuracy: 1.0000 - val_loss: 0.0040 - val_accuracy: 1.0000\n",
            "Epoch 45/50\n",
            "72/72 [==============================] - 0s 2ms/step - loss: 0.0168 - accuracy: 1.0000 - val_loss: 0.0023 - val_accuracy: 1.0000\n",
            "Epoch 46/50\n",
            "72/72 [==============================] - 0s 2ms/step - loss: 0.0126 - accuracy: 1.0000 - val_loss: 0.0029 - val_accuracy: 1.0000\n",
            "Epoch 47/50\n",
            "72/72 [==============================] - 0s 3ms/step - loss: 0.0052 - accuracy: 1.0000 - val_loss: 0.0028 - val_accuracy: 1.0000\n",
            "Epoch 48/50\n",
            "72/72 [==============================] - 0s 3ms/step - loss: 0.0048 - accuracy: 1.0000 - val_loss: 0.0024 - val_accuracy: 1.0000\n",
            "Epoch 49/50\n",
            "72/72 [==============================] - 0s 2ms/step - loss: 0.0055 - accuracy: 1.0000 - val_loss: 0.0032 - val_accuracy: 1.0000\n",
            "Epoch 50/50\n",
            "72/72 [==============================] - 0s 3ms/step - loss: 0.0049 - accuracy: 1.0000 - val_loss: 0.0025 - val_accuracy: 1.0000\n",
            "Epoch 1/50\n",
            "72/72 [==============================] - 1s 4ms/step - loss: 1.3474 - accuracy: 0.4028 - val_loss: 1.3235 - val_accuracy: 0.3750\n",
            "Epoch 2/50\n",
            "72/72 [==============================] - 0s 2ms/step - loss: 1.3234 - accuracy: 0.3056 - val_loss: 1.3616 - val_accuracy: 0.2917\n",
            "Epoch 3/50\n",
            "72/72 [==============================] - 0s 2ms/step - loss: 1.2259 - accuracy: 0.5000 - val_loss: 1.4936 - val_accuracy: 0.2917\n",
            "Epoch 4/50\n",
            "72/72 [==============================] - 0s 2ms/step - loss: 1.3071 - accuracy: 0.3750 - val_loss: 1.4956 - val_accuracy: 0.2917\n",
            "Epoch 5/50\n",
            "72/72 [==============================] - 0s 3ms/step - loss: 1.3010 - accuracy: 0.3889 - val_loss: 1.2482 - val_accuracy: 0.3750\n",
            "Epoch 6/50\n",
            "72/72 [==============================] - 0s 3ms/step - loss: 1.2768 - accuracy: 0.4444 - val_loss: 1.1833 - val_accuracy: 0.6250\n",
            "Epoch 7/50\n",
            "72/72 [==============================] - 0s 2ms/step - loss: 1.1129 - accuracy: 0.6528 - val_loss: 1.1206 - val_accuracy: 0.6667\n",
            "Epoch 8/50\n",
            "72/72 [==============================] - 0s 3ms/step - loss: 1.0632 - accuracy: 0.6528 - val_loss: 0.9830 - val_accuracy: 0.7917\n",
            "Epoch 9/50\n",
            "72/72 [==============================] - 0s 3ms/step - loss: 0.8931 - accuracy: 0.7778 - val_loss: 0.9043 - val_accuracy: 0.7917\n",
            "Epoch 10/50\n",
            "72/72 [==============================] - 0s 2ms/step - loss: 0.7951 - accuracy: 0.7639 - val_loss: 0.7781 - val_accuracy: 0.8333\n",
            "Epoch 11/50\n",
            "72/72 [==============================] - 0s 2ms/step - loss: 0.6625 - accuracy: 0.7778 - val_loss: 0.6739 - val_accuracy: 0.7500\n",
            "Epoch 12/50\n",
            "72/72 [==============================] - 0s 3ms/step - loss: 0.5462 - accuracy: 0.8194 - val_loss: 0.5763 - val_accuracy: 0.8333\n",
            "Epoch 13/50\n",
            "72/72 [==============================] - 0s 3ms/step - loss: 0.5012 - accuracy: 0.8472 - val_loss: 0.5677 - val_accuracy: 0.7083\n",
            "Epoch 14/50\n",
            "72/72 [==============================] - 0s 3ms/step - loss: 0.3614 - accuracy: 0.9028 - val_loss: 0.3391 - val_accuracy: 0.9583\n",
            "Epoch 15/50\n",
            "72/72 [==============================] - 0s 2ms/step - loss: 0.3143 - accuracy: 0.9167 - val_loss: 0.2763 - val_accuracy: 1.0000\n",
            "Epoch 16/50\n",
            "72/72 [==============================] - 0s 2ms/step - loss: 0.2547 - accuracy: 0.9167 - val_loss: 0.3007 - val_accuracy: 0.8750\n",
            "Epoch 17/50\n",
            "72/72 [==============================] - 0s 2ms/step - loss: 0.2215 - accuracy: 0.9306 - val_loss: 0.1780 - val_accuracy: 1.0000\n",
            "Epoch 18/50\n",
            "72/72 [==============================] - 0s 2ms/step - loss: 0.1396 - accuracy: 0.9861 - val_loss: 0.1546 - val_accuracy: 1.0000\n",
            "Epoch 19/50\n",
            "72/72 [==============================] - 0s 3ms/step - loss: 0.0873 - accuracy: 1.0000 - val_loss: 0.0923 - val_accuracy: 1.0000\n",
            "Epoch 20/50\n",
            "72/72 [==============================] - 0s 3ms/step - loss: 0.0679 - accuracy: 1.0000 - val_loss: 0.1060 - val_accuracy: 1.0000\n",
            "Epoch 21/50\n",
            "72/72 [==============================] - 0s 2ms/step - loss: 0.0509 - accuracy: 1.0000 - val_loss: 0.0770 - val_accuracy: 1.0000\n",
            "Epoch 22/50\n",
            "72/72 [==============================] - 0s 3ms/step - loss: 0.0946 - accuracy: 0.9722 - val_loss: 0.0559 - val_accuracy: 1.0000\n",
            "Epoch 23/50\n",
            "72/72 [==============================] - 0s 2ms/step - loss: 0.0536 - accuracy: 0.9861 - val_loss: 0.0462 - val_accuracy: 1.0000\n",
            "Epoch 24/50\n",
            "72/72 [==============================] - 0s 3ms/step - loss: 0.0487 - accuracy: 1.0000 - val_loss: 0.0395 - val_accuracy: 1.0000\n",
            "Epoch 25/50\n",
            "72/72 [==============================] - 0s 2ms/step - loss: 0.0227 - accuracy: 1.0000 - val_loss: 0.0549 - val_accuracy: 1.0000\n",
            "Epoch 26/50\n",
            "72/72 [==============================] - 0s 3ms/step - loss: 0.0198 - accuracy: 1.0000 - val_loss: 0.0454 - val_accuracy: 1.0000\n",
            "Epoch 27/50\n",
            "72/72 [==============================] - 0s 5ms/step - loss: 0.0251 - accuracy: 1.0000 - val_loss: 0.0272 - val_accuracy: 1.0000\n",
            "Epoch 28/50\n",
            "72/72 [==============================] - 0s 3ms/step - loss: 0.0193 - accuracy: 1.0000 - val_loss: 0.0243 - val_accuracy: 1.0000\n",
            "Epoch 29/50\n",
            "72/72 [==============================] - 0s 2ms/step - loss: 0.0167 - accuracy: 1.0000 - val_loss: 0.0311 - val_accuracy: 1.0000\n",
            "Epoch 30/50\n",
            "72/72 [==============================] - 0s 5ms/step - loss: 0.0169 - accuracy: 1.0000 - val_loss: 0.0238 - val_accuracy: 1.0000\n",
            "Epoch 31/50\n",
            "72/72 [==============================] - 0s 2ms/step - loss: 0.0139 - accuracy: 1.0000 - val_loss: 0.0222 - val_accuracy: 1.0000\n",
            "Epoch 32/50\n",
            "72/72 [==============================] - 0s 3ms/step - loss: 0.0123 - accuracy: 1.0000 - val_loss: 0.0189 - val_accuracy: 1.0000\n",
            "Epoch 33/50\n",
            "72/72 [==============================] - 0s 2ms/step - loss: 0.0102 - accuracy: 1.0000 - val_loss: 0.0164 - val_accuracy: 1.0000\n",
            "Epoch 34/50\n",
            "72/72 [==============================] - 0s 3ms/step - loss: 0.0099 - accuracy: 1.0000 - val_loss: 0.0200 - val_accuracy: 1.0000\n",
            "Epoch 35/50\n",
            "72/72 [==============================] - 0s 3ms/step - loss: 0.0113 - accuracy: 1.0000 - val_loss: 0.0153 - val_accuracy: 1.0000\n",
            "Epoch 36/50\n",
            "72/72 [==============================] - 0s 2ms/step - loss: 0.0087 - accuracy: 1.0000 - val_loss: 0.0161 - val_accuracy: 1.0000\n",
            "Epoch 37/50\n",
            "72/72 [==============================] - 0s 2ms/step - loss: 0.0076 - accuracy: 1.0000 - val_loss: 0.0144 - val_accuracy: 1.0000\n",
            "Epoch 38/50\n",
            "72/72 [==============================] - 0s 2ms/step - loss: 0.0080 - accuracy: 1.0000 - val_loss: 0.0117 - val_accuracy: 1.0000\n",
            "Epoch 39/50\n",
            "72/72 [==============================] - 0s 3ms/step - loss: 0.0070 - accuracy: 1.0000 - val_loss: 0.0113 - val_accuracy: 1.0000\n",
            "Epoch 40/50\n",
            "72/72 [==============================] - 0s 3ms/step - loss: 0.0070 - accuracy: 1.0000 - val_loss: 0.0103 - val_accuracy: 1.0000\n",
            "Epoch 41/50\n",
            "72/72 [==============================] - 0s 3ms/step - loss: 0.0061 - accuracy: 1.0000 - val_loss: 0.0101 - val_accuracy: 1.0000\n",
            "Epoch 42/50\n",
            "72/72 [==============================] - 0s 3ms/step - loss: 0.0063 - accuracy: 1.0000 - val_loss: 0.0103 - val_accuracy: 1.0000\n",
            "Epoch 43/50\n",
            "72/72 [==============================] - 0s 3ms/step - loss: 0.0064 - accuracy: 1.0000 - val_loss: 0.0107 - val_accuracy: 1.0000\n",
            "Epoch 44/50\n",
            "72/72 [==============================] - 0s 3ms/step - loss: 0.0057 - accuracy: 1.0000 - val_loss: 0.0102 - val_accuracy: 1.0000\n",
            "Epoch 45/50\n",
            "72/72 [==============================] - 0s 2ms/step - loss: 0.0055 - accuracy: 1.0000 - val_loss: 0.0090 - val_accuracy: 1.0000\n",
            "Epoch 46/50\n",
            "72/72 [==============================] - 0s 3ms/step - loss: 0.0054 - accuracy: 1.0000 - val_loss: 0.0090 - val_accuracy: 1.0000\n",
            "Epoch 47/50\n",
            "72/72 [==============================] - 0s 3ms/step - loss: 0.0046 - accuracy: 1.0000 - val_loss: 0.0088 - val_accuracy: 1.0000\n",
            "Epoch 48/50\n",
            "72/72 [==============================] - 0s 2ms/step - loss: 0.0043 - accuracy: 1.0000 - val_loss: 0.0078 - val_accuracy: 1.0000\n",
            "Epoch 49/50\n",
            "72/72 [==============================] - 0s 3ms/step - loss: 0.0047 - accuracy: 1.0000 - val_loss: 0.0082 - val_accuracy: 1.0000\n",
            "Epoch 50/50\n",
            "72/72 [==============================] - 0s 2ms/step - loss: 0.0047 - accuracy: 1.0000 - val_loss: 0.0074 - val_accuracy: 1.0000\n"
          ]
        }
      ],
      "source": [
        "# learning rate\n",
        "learn_rate = 0.001\n",
        "\n",
        "# gradient decent initialization\n",
        "sgd = SGD(learning_rate=learn_rate, momentum=0.9, nesterov=False)\n",
        "\n",
        "models = [tf.keras.Sequential(), tf.keras.Sequential()]\n",
        "\n",
        "for idx, m in enumerate(models):\n",
        "    m.add(tf.keras.layers.Dense(50, activation=\"relu\"))  # relu is used for performance\n",
        "    m.add(tf.keras.layers.Dense(15, activation=\"relu\"))\n",
        "    m.add(tf.keras.layers.Dense(NUM_GESTURES, activation=\"softmax\"))\n",
        "    m.compile(optimizer=sgd, loss=\"categorical_crossentropy\", metrics=[\"accuracy\"])\n",
        "    \n",
        "    if idx == 0:\n",
        "        history_R = m.fit(\n",
        "            inputs_train_R,\n",
        "            outputs_train_R,\n",
        "            epochs=50,\n",
        "            batch_size=1,\n",
        "            validation_data=(inputs_validate_R, outputs_validate_R),\n",
        "        )\n",
        "    else:\n",
        "        history_L = m.fit(\n",
        "            inputs_train_L,\n",
        "            outputs_train_L,\n",
        "            epochs=50,\n",
        "            batch_size=1,\n",
        "            validation_data=(inputs_validate_L, outputs_validate_L),\n",
        "        )\n"
      ]
    },
    {
      "cell_type": "markdown",
      "metadata": {
        "id": "Q1cxkGzlaCdq"
      },
      "source": [
        "# Check the models accuracy"
      ]
    },
    {
      "cell_type": "markdown",
      "metadata": {
        "id": "O04D6bkEaCdr"
      },
      "source": [
        "Accuracy of the right hand model"
      ]
    },
    {
      "cell_type": "code",
      "execution_count": 8,
      "metadata": {
        "colab": {
          "base_uri": "https://localhost:8080/"
        },
        "id": "e2H83YgRDij7",
        "outputId": "92be423e-ae88-4ab0-c9e9-306886757099"
      },
      "outputs": [
        {
          "name": "stdout",
          "output_type": "stream",
          "text": [
            "Test loss: 0.01\n",
            "Test accuracy: 0.98\n"
          ]
        }
      ],
      "source": [
        "score_R = models[0].evaluate(inputs_test_R, outputs_test_R)\n",
        "print(\"Test loss:\", round(score_R[0], 3))\n",
        "print(\"Test accuracy:\", round(score_R[1], 3))\n"
      ]
    },
    {
      "cell_type": "markdown",
      "metadata": {
        "id": "bopU5OhFaCds"
      },
      "source": [
        "Accuracy of the left hand model"
      ]
    },
    {
      "cell_type": "code",
      "execution_count": 9,
      "metadata": {
        "colab": {
          "base_uri": "https://localhost:8080/"
        },
        "id": "4TBjaSGuaCds",
        "outputId": "3d01c523-7a9e-472a-b2d6-5f1d33e97969"
      },
      "outputs": [
        {
          "name": "stdout",
          "output_type": "stream",
          "text": [
            "Test loss: 0.015\n",
            "Test accuracy: 0.97\n"
          ]
        }
      ],
      "source": [
        "score_L = models[1].evaluate(inputs_test_L, outputs_test_L)\n",
        "print(\"Test loss:\", round(score_L[0], 3))\n",
        "print(\"Test accuracy:\", round(score_L[1], 3))"
      ]
    },
    {
      "cell_type": "markdown",
      "metadata": {
        "id": "PhnL6T12aCdt"
      },
      "source": [
        "# Check & plot prediction with test outputs"
      ]
    },
    {
      "cell_type": "markdown",
      "metadata": {
        "id": "dvo9_FU8aCdt"
      },
      "source": [
        "For the right hand"
      ]
    },
    {
      "cell_type": "code",
      "execution_count": 11,
      "metadata": {
        "colab": {
          "base_uri": "https://localhost:8080/",
          "height": 1000
        },
        "id": "BI9ppkoKINO6",
        "outputId": "37a034fa-5e66-4549-bd14-96a1c87a7615"
      },
      "outputs": [
        {
          "name": "stdout",
          "output_type": "stream",
          "text": [
            "1/1 [==============================] - 0s 168ms/step\n",
            "predictions =\n",
            " [[0.998 0.    0.001 0.001]\n",
            " [0.    0.001 0.999 0.   ]\n",
            " [0.997 0.    0.    0.003]\n",
            " [0.999 0.    0.001 0.001]\n",
            " [0.002 0.088 0.013 0.897]\n",
            " [0.    1.    0.    0.   ]\n",
            " [0.    0.    0.999 0.   ]\n",
            " [0.027 0.012 0.949 0.012]\n",
            " [0.    0.982 0.    0.018]\n",
            " [0.    0.991 0.    0.009]\n",
            " [0.001 0.    0.    0.999]\n",
            " [0.    0.999 0.    0.001]\n",
            " [0.001 0.    0.    0.999]\n",
            " [0.002 0.006 0.001 0.991]\n",
            " [0.996 0.    0.001 0.003]\n",
            " [0.997 0.    0.    0.003]\n",
            " [0.    1.    0.    0.   ]\n",
            " [0.    0.996 0.    0.004]\n",
            " [0.    0.998 0.    0.002]\n",
            " [0.    0.002 0.998 0.   ]\n",
            " [0.998 0.    0.001 0.001]\n",
            " [0.    0.001 0.998 0.   ]\n",
            " [0.    0.999 0.    0.001]\n",
            " [0.    0.999 0.    0.001]]\n",
            "actual =\n",
            " [[1. 0. 0. 0.]\n",
            " [0. 0. 1. 0.]\n",
            " [1. 0. 0. 0.]\n",
            " [1. 0. 0. 0.]\n",
            " [0. 0. 0. 1.]\n",
            " [0. 1. 0. 0.]\n",
            " [0. 0. 1. 0.]\n",
            " [0. 0. 1. 0.]\n",
            " [0. 1. 0. 0.]\n",
            " [0. 1. 0. 0.]\n",
            " [0. 0. 0. 1.]\n",
            " [0. 1. 0. 0.]\n",
            " [0. 0. 0. 1.]\n",
            " [0. 0. 0. 1.]\n",
            " [1. 0. 0. 0.]\n",
            " [1. 0. 0. 0.]\n",
            " [0. 1. 0. 0.]\n",
            " [0. 1. 0. 0.]\n",
            " [0. 1. 0. 0.]\n",
            " [0. 0. 1. 0.]\n",
            " [1. 0. 0. 0.]\n",
            " [0. 0. 1. 0.]\n",
            " [0. 1. 0. 0.]\n",
            " [0. 1. 0. 0.]]\n"
          ]
        },
        {
          "name": "stderr",
          "output_type": "stream",
          "text": [
            "<ipython-input-11-ee97f98d9967>:11: MatplotlibDeprecationWarning: cycling among columns of inputs with non-matching shapes is deprecated.\n",
            "  plt.plot(inputs_test_R, outputs_test_R, \"b.\", label=\"Actual\")\n",
            "<ipython-input-11-ee97f98d9967>:12: MatplotlibDeprecationWarning: cycling among columns of inputs with non-matching shapes is deprecated.\n",
            "  plt.plot(inputs_test_R, predictions_R, \"r.\", label=\"Predicted\")\n"
          ]
        },
        {
          "data": {
            "image/png": "[encoded data removed]",
            "text/plain": [
              "<Figure size 432x288 with 1 Axes>"
            ]
          },
          "metadata": {
            "needs_background": "light"
          },
          "output_type": "display_data"
        }
      ],
      "source": [
        "# use the model to predict the test inputs\n",
        "predictions_R = models[0].predict(inputs_test_R)\n",
        "\n",
        "# print the predictions and the expected ouputs\n",
        "print(\"predictions =\\n\", np.round(predictions_R, decimals=3))\n",
        "print(\"actual =\\n\", outputs_test_R)\n",
        "\n",
        "# Plot the predictions along with to the test data\n",
        "plt.clf()\n",
        "plt.title(\"Training data predicted vs actual values\")\n",
        "plt.plot(inputs_test_R, outputs_test_R, \"b.\", label=\"Actual\")\n",
        "plt.plot(inputs_test_R, predictions_R, \"r.\", label=\"Predicted\")\n",
        "plt.show()\n"
      ]
    },
    {
      "cell_type": "markdown",
      "metadata": {
        "id": "yxiui-xjaCdu"
      },
      "source": [
        "For the left hand"
      ]
    },
    {
      "cell_type": "code",
      "execution_count": 12,
      "metadata": {
        "colab": {
          "base_uri": "https://localhost:8080/",
          "height": 1000
        },
        "id": "WKTb3Mj-aCdu",
        "outputId": "1bff3313-4180-432d-9170-49de42992e8a"
      },
      "outputs": [
        {
          "name": "stdout",
          "output_type": "stream",
          "text": [
            "1/1 [==============================] - 0s 48ms/step\n",
            "predictions =\n",
            " [[0.004 0.047 0.    0.949]\n",
            " [0.    0.999 0.    0.001]\n",
            " [0.998 0.001 0.    0.001]\n",
            " [0.998 0.    0.    0.001]\n",
            " [0.    1.    0.    0.   ]\n",
            " [0.995 0.    0.003 0.002]\n",
            " [0.    0.001 0.002 0.997]\n",
            " [0.    0.    0.998 0.002]\n",
            " [0.002 0.023 0.    0.975]\n",
            " [0.998 0.    0.    0.001]\n",
            " [0.    0.999 0.    0.001]\n",
            " [0.    1.    0.    0.   ]\n",
            " [0.001 0.    0.994 0.005]\n",
            " [0.    0.998 0.    0.002]\n",
            " [0.    0.017 0.    0.982]\n",
            " [0.998 0.001 0.    0.001]\n",
            " [0.    0.01  0.    0.99 ]\n",
            " [0.002 0.806 0.    0.192]\n",
            " [0.    0.    0.998 0.002]\n",
            " [0.    0.    0.994 0.005]\n",
            " [0.998 0.001 0.    0.001]\n",
            " [0.999 0.    0.    0.001]\n",
            " [0.    0.    0.996 0.004]\n",
            " [0.998 0.001 0.    0.001]]\n",
            "actual =\n",
            " [[0. 0. 0. 1.]\n",
            " [0. 1. 0. 0.]\n",
            " [1. 0. 0. 0.]\n",
            " [1. 0. 0. 0.]\n",
            " [0. 1. 0. 0.]\n",
            " [1. 0. 0. 0.]\n",
            " [0. 0. 0. 1.]\n",
            " [0. 0. 1. 0.]\n",
            " [0. 0. 0. 1.]\n",
            " [1. 0. 0. 0.]\n",
            " [0. 1. 0. 0.]\n",
            " [0. 1. 0. 0.]\n",
            " [0. 0. 1. 0.]\n",
            " [0. 1. 0. 0.]\n",
            " [0. 0. 0. 1.]\n",
            " [1. 0. 0. 0.]\n",
            " [0. 0. 0. 1.]\n",
            " [0. 1. 0. 0.]\n",
            " [0. 0. 1. 0.]\n",
            " [0. 0. 1. 0.]\n",
            " [1. 0. 0. 0.]\n",
            " [1. 0. 0. 0.]\n",
            " [0. 0. 1. 0.]\n",
            " [1. 0. 0. 0.]]\n"
          ]
        },
        {
          "name": "stderr",
          "output_type": "stream",
          "text": [
            "<ipython-input-12-7b85d97eece2>:11: MatplotlibDeprecationWarning: cycling among columns of inputs with non-matching shapes is deprecated.\n",
            "  plt.plot(inputs_test_L, outputs_test_L, \"b.\", label=\"Actual\")\n",
            "<ipython-input-12-7b85d97eece2>:12: MatplotlibDeprecationWarning: cycling among columns of inputs with non-matching shapes is deprecated.\n",
            "  plt.plot(inputs_test_L, predictions_L, \"r.\", label=\"Predicted\")\n"
          ]
        },
        {
          "data": {
            "image/png": "[encoded data removed]",
            "text/plain": [
              "<Figure size 432x288 with 1 Axes>"
            ]
          },
          "metadata": {
            "needs_background": "light"
          },
          "output_type": "display_data"
        }
      ],
      "source": [
        "# use the model to predict the test inputs\n",
        "predictions_L = models[1].predict(inputs_test_L)\n",
        "\n",
        "# print the predictions and the expected ouputs\n",
        "print(\"predictions =\\n\", np.round(predictions_L, decimals=3))\n",
        "print(\"actual =\\n\", outputs_test_L)\n",
        "\n",
        "# Plot the predictions along with to the test data\n",
        "plt.clf()\n",
        "plt.title(\"Training data predicted vs actual values\")\n",
        "plt.plot(inputs_test_L, outputs_test_L, \"b.\", label=\"Actual\")\n",
        "plt.plot(inputs_test_L, predictions_L, \"r.\", label=\"Predicted\")\n",
        "plt.show()\n"
      ]
    },
    {
      "cell_type": "markdown",
      "metadata": {
        "id": "j7DO6xxXVCym"
      },
      "source": [
        "# Convert the Trained Model to Tensor Flow Lite\n",
        "\n",
        "The next cell converts the model to TFlite format. The size in bytes of the model is also printed out.\n"
      ]
    },
    {
      "cell_type": "code",
      "execution_count": 14,
      "metadata": {
        "colab": {
          "base_uri": "https://localhost:8080/"
        },
        "id": "J3ulPQjyaCdv",
        "outputId": "2724cd5e-9016-497a-f680-3ef8746c8b9a"
      },
      "outputs": [
        {
          "name": "stdout",
          "output_type": "stream",
          "text": [
            "Model_R is 148352 bytes\n",
            "Model_L is 148384 bytes\n"
          ]
        }
      ],
      "source": [
        "for idx, m in enumerate(models):\n",
        "    # Convert the model to the TensorFlow Lite format without quantization\n",
        "    converter = tf.lite.TFLiteConverter.from_keras_model(m)\n",
        "\n",
        "    # to optimize size of the model.tflite\n",
        "    # converter.optimizations = [tf.lite.Optimize.OPTIMIZE_FOR_SIZE]\n",
        "\n",
        "    tflite_model = converter.convert()\n",
        "\n",
        "    if idx == 0:\n",
        "        hand = \"R\" \n",
        "    else: \n",
        "        hand =\"L\"\n",
        "\n",
        "    # Save the model to disk\n",
        "    open(f\"gesture_model_{hand}.tflite\", \"wb\").write(tflite_model)\n",
        "\n",
        "    basic_model_size = os.path.getsize(f\"gesture_model_{hand}.tflite\")\n",
        "    print(f\"Model_{hand} is %d bytes\" % basic_model_size)"
      ]
    },
    {
      "cell_type": "markdown",
      "metadata": {
        "id": "ykccQn7SXrUX"
      },
      "source": [
        "## Encode the Model in an Arduino Header File\n",
        "\n",
        "The next cell creates a constant byte array that contains the TFlite model. Import it as a tab with the sketch below.\n"
      ]
    },
    {
      "cell_type": "code",
      "execution_count": 16,
      "metadata": {
        "colab": {
          "base_uri": "https://localhost:8080/"
        },
        "id": "FkAoZgM0aCdv",
        "outputId": "256752bd-16b2-4cb7-8c86-ffa1d812fffc"
      },
      "outputs": [
        {
          "name": "stdout",
          "output_type": "stream",
          "text": [
            "Header file, model_R.h.h, is 914,872 bytes.\n",
            "\n",
            "Open the side panel (refresh if needed). Double click model_R.h to download the file.\n",
            "Header file, model_L.h.h, is 915,070 bytes.\n",
            "\n",
            "Open the side panel (refresh if needed). Double click model_L.h to download the file.\n"
          ]
        }
      ],
      "source": [
        "for idx, m in enumerate(models):\n",
        "    if idx == 0: \n",
        "        !echo \"const unsigned char model[] = {\" > /content/model_R.h\n",
        "        !cat gesture_model_R.tflite | xxd -i      >> /content/model_R.h\n",
        "        !echo \"};\"                              >> /content/model_R.h\n",
        "        model =\"model_R.h\"\n",
        "    else: \n",
        "        !echo \"const unsigned char model[] = {\" > /content/model_L.h\n",
        "        !cat gesture_model_L.tflite | xxd -i      >> /content/model_L.h\n",
        "        !echo \"};\"                              >> /content/model_L.h\n",
        "        model =\"model_L.h\"\n",
        "        \n",
        "\n",
        "    model_h_size = os.path.getsize(model)\n",
        "    print(f\"Header file, {model}, is {model_h_size:,} bytes.\")\n",
        "    print(f\"\\nOpen the side panel (refresh if needed). Double click {model} to download the file.\")"
      ]
    }
  ],
  "metadata": {
    "colab": {
      "provenance": []
    },
    "kernelspec": {
      "display_name": "Python 3.10.7 64-bit",
      "language": "python",
      "name": "python3"
    },
    "language_info": {
      "name": "python",
      "version": "3.10.7"
    },
    "vscode": {
      "interpreter": {
        "hash": "3196968d684371006099b3d55edeef8ed90365227a30deaef86e5d4aa8519be0"
      }
    }
  },
  "nbformat": 4,
  "nbformat_minor": 0
}
